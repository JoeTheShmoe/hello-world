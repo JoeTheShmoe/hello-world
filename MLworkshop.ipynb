{
 "cells": [
  {
   "cell_type": "markdown",
   "metadata": {},
   "source": [
    "# Machine Learning using Sklearn with a Focus on practical implementation\n",
    "Designed for an introductory workshop introducing the scikit-learn package and how to get start using the models for research work (especially with an emphasis on the social sciences). Implementation mostly focuses on regression problems and Random Forests."
   ]
  },
  {
   "cell_type": "code",
   "execution_count": 2,
   "metadata": {},
   "outputs": [],
   "source": [
    "# Load dataset if necessary \n",
    "#!wget https://raw.githubusercontent.com/M-Harrington/Instruction/master/corruption_dataset.csv"
   ]
  },
  {
   "cell_type": "code",
   "execution_count": 34,
   "metadata": {},
   "outputs": [],
   "source": [
    "import pandas as pd\n",
    "import numpy as np\n",
    "import matplotlib.pyplot as plt\n",
    "\n",
    "from sklearn.ensemble import RandomForestRegressor\n",
    "from sklearn.model_selection import train_test_split\n",
    "from sklearn.model_selection import GridSearchCV"
   ]
  },
  {
   "cell_type": "markdown",
   "metadata": {},
   "source": [
    "### Data Preprocessing"
   ]
  },
  {
   "cell_type": "code",
   "execution_count": 41,
   "metadata": {},
   "outputs": [],
   "source": [
    "df.to_csv(\"corruption_dataset.csv\")"
   ]
  },
  {
   "cell_type": "code",
   "execution_count": 43,
   "metadata": {},
   "outputs": [
    {
     "data": {
      "text/html": [
       "<div>\n",
       "<style scoped>\n",
       "    .dataframe tbody tr th:only-of-type {\n",
       "        vertical-align: middle;\n",
       "    }\n",
       "\n",
       "    .dataframe tbody tr th {\n",
       "        vertical-align: top;\n",
       "    }\n",
       "\n",
       "    .dataframe thead th {\n",
       "        text-align: right;\n",
       "    }\n",
       "</style>\n",
       "<table border=\"1\" class=\"dataframe\">\n",
       "  <thead>\n",
       "    <tr style=\"text-align: right;\">\n",
       "      <th></th>\n",
       "      <th>CPI_2015</th>\n",
       "      <th>Risk_Dec_15</th>\n",
       "      <th>Risk_Nov_14</th>\n",
       "      <th>year</th>\n",
       "      <th>electric_percap</th>\n",
       "      <th>food_prod_index</th>\n",
       "      <th>percent_forest</th>\n",
       "      <th>gdp</th>\n",
       "      <th>income_bottom_20</th>\n",
       "      <th>literacy_male</th>\n",
       "      <th>...</th>\n",
       "      <th>childmort</th>\n",
       "      <th>net_migration</th>\n",
       "      <th>pop</th>\n",
       "      <th>undernourish</th>\n",
       "      <th>school_complete</th>\n",
       "      <th>researchers</th>\n",
       "      <th>rural_pop</th>\n",
       "      <th>total_debt</th>\n",
       "      <th>urban_pop</th>\n",
       "      <th>row_na</th>\n",
       "    </tr>\n",
       "    <tr>\n",
       "      <th>country</th>\n",
       "      <th></th>\n",
       "      <th></th>\n",
       "      <th></th>\n",
       "      <th></th>\n",
       "      <th></th>\n",
       "      <th></th>\n",
       "      <th></th>\n",
       "      <th></th>\n",
       "      <th></th>\n",
       "      <th></th>\n",
       "      <th></th>\n",
       "      <th></th>\n",
       "      <th></th>\n",
       "      <th></th>\n",
       "      <th></th>\n",
       "      <th></th>\n",
       "      <th></th>\n",
       "      <th></th>\n",
       "      <th></th>\n",
       "      <th></th>\n",
       "      <th></th>\n",
       "    </tr>\n",
       "  </thead>\n",
       "  <tbody>\n",
       "    <tr>\n",
       "      <th>Afghanistan</th>\n",
       "      <td>89</td>\n",
       "      <td>NaN</td>\n",
       "      <td>NaN</td>\n",
       "      <td>2012</td>\n",
       "      <td>NaN</td>\n",
       "      <td>122.13</td>\n",
       "      <td>2.067825</td>\n",
       "      <td>2.000162e+10</td>\n",
       "      <td>NaN</td>\n",
       "      <td>NaN</td>\n",
       "      <td>...</td>\n",
       "      <td>82.6</td>\n",
       "      <td>448007.0</td>\n",
       "      <td>31161376.0</td>\n",
       "      <td>23.4</td>\n",
       "      <td>NaN</td>\n",
       "      <td>NaN</td>\n",
       "      <td>75.840</td>\n",
       "      <td>0.601426</td>\n",
       "      <td>7528588.0</td>\n",
       "      <td>8</td>\n",
       "    </tr>\n",
       "    <tr>\n",
       "      <th>Albania</th>\n",
       "      <td>64</td>\n",
       "      <td>67.8</td>\n",
       "      <td>66.3</td>\n",
       "      <td>2012</td>\n",
       "      <td>2118.327776</td>\n",
       "      <td>133.04</td>\n",
       "      <td>28.262044</td>\n",
       "      <td>1.231978e+10</td>\n",
       "      <td>8.9</td>\n",
       "      <td>98.352608</td>\n",
       "      <td>...</td>\n",
       "      <td>10.7</td>\n",
       "      <td>-93425.0</td>\n",
       "      <td>2900401.0</td>\n",
       "      <td>6.0</td>\n",
       "      <td>98.911697</td>\n",
       "      <td>NaN</td>\n",
       "      <td>45.670</td>\n",
       "      <td>14.215342</td>\n",
       "      <td>1575788.0</td>\n",
       "      <td>1</td>\n",
       "    </tr>\n",
       "    <tr>\n",
       "      <th>Algeria</th>\n",
       "      <td>64</td>\n",
       "      <td>64.3</td>\n",
       "      <td>68.3</td>\n",
       "      <td>2012</td>\n",
       "      <td>1237.966507</td>\n",
       "      <td>149.67</td>\n",
       "      <td>0.811675</td>\n",
       "      <td>2.090590e+11</td>\n",
       "      <td>NaN</td>\n",
       "      <td>NaN</td>\n",
       "      <td>...</td>\n",
       "      <td>26.1</td>\n",
       "      <td>-143268.0</td>\n",
       "      <td>37383887.0</td>\n",
       "      <td>5.0</td>\n",
       "      <td>101.450180</td>\n",
       "      <td>NaN</td>\n",
       "      <td>31.085</td>\n",
       "      <td>1.093393</td>\n",
       "      <td>25763106.0</td>\n",
       "      <td>4</td>\n",
       "    </tr>\n",
       "    <tr>\n",
       "      <th>Angola</th>\n",
       "      <td>85</td>\n",
       "      <td>59.0</td>\n",
       "      <td>65.8</td>\n",
       "      <td>2012</td>\n",
       "      <td>219.253430</td>\n",
       "      <td>152.82</td>\n",
       "      <td>46.707627</td>\n",
       "      <td>1.280529e+11</td>\n",
       "      <td>NaN</td>\n",
       "      <td>NaN</td>\n",
       "      <td>...</td>\n",
       "      <td>105.8</td>\n",
       "      <td>87322.0</td>\n",
       "      <td>25107931.0</td>\n",
       "      <td>35.1</td>\n",
       "      <td>NaN</td>\n",
       "      <td>NaN</td>\n",
       "      <td>38.732</td>\n",
       "      <td>5.856513</td>\n",
       "      <td>15383127.0</td>\n",
       "      <td>5</td>\n",
       "    </tr>\n",
       "    <tr>\n",
       "      <th>Argentina</th>\n",
       "      <td>68</td>\n",
       "      <td>66.5</td>\n",
       "      <td>63.8</td>\n",
       "      <td>2012</td>\n",
       "      <td>3000.603523</td>\n",
       "      <td>108.03</td>\n",
       "      <td>10.232215</td>\n",
       "      <td>5.459824e+11</td>\n",
       "      <td>4.9</td>\n",
       "      <td>99.111130</td>\n",
       "      <td>...</td>\n",
       "      <td>13.3</td>\n",
       "      <td>30000.0</td>\n",
       "      <td>41733271.0</td>\n",
       "      <td>3.7</td>\n",
       "      <td>103.231369</td>\n",
       "      <td>1199.36089</td>\n",
       "      <td>8.879</td>\n",
       "      <td>NaN</td>\n",
       "      <td>38027774.0</td>\n",
       "      <td>1</td>\n",
       "    </tr>\n",
       "  </tbody>\n",
       "</table>\n",
       "<p>5 rows × 21 columns</p>\n",
       "</div>"
      ],
      "text/plain": [
       "             CPI_2015  Risk_Dec_15  Risk_Nov_14  year  electric_percap  \\\n",
       "country                                                                  \n",
       "Afghanistan        89          NaN          NaN  2012              NaN   \n",
       "Albania            64         67.8         66.3  2012      2118.327776   \n",
       "Algeria            64         64.3         68.3  2012      1237.966507   \n",
       "Angola             85         59.0         65.8  2012       219.253430   \n",
       "Argentina          68         66.5         63.8  2012      3000.603523   \n",
       "\n",
       "             food_prod_index  percent_forest           gdp  income_bottom_20  \\\n",
       "country                                                                        \n",
       "Afghanistan           122.13        2.067825  2.000162e+10               NaN   \n",
       "Albania               133.04       28.262044  1.231978e+10               8.9   \n",
       "Algeria               149.67        0.811675  2.090590e+11               NaN   \n",
       "Angola                152.82       46.707627  1.280529e+11               NaN   \n",
       "Argentina             108.03       10.232215  5.459824e+11               4.9   \n",
       "\n",
       "             literacy_male  ...  childmort  net_migration         pop  \\\n",
       "country                     ...                                         \n",
       "Afghanistan            NaN  ...       82.6       448007.0  31161376.0   \n",
       "Albania          98.352608  ...       10.7       -93425.0   2900401.0   \n",
       "Algeria                NaN  ...       26.1      -143268.0  37383887.0   \n",
       "Angola                 NaN  ...      105.8        87322.0  25107931.0   \n",
       "Argentina        99.111130  ...       13.3        30000.0  41733271.0   \n",
       "\n",
       "             undernourish  school_complete  researchers  rural_pop  \\\n",
       "country                                                              \n",
       "Afghanistan          23.4              NaN          NaN     75.840   \n",
       "Albania               6.0        98.911697          NaN     45.670   \n",
       "Algeria               5.0       101.450180          NaN     31.085   \n",
       "Angola               35.1              NaN          NaN     38.732   \n",
       "Argentina             3.7       103.231369   1199.36089      8.879   \n",
       "\n",
       "             total_debt   urban_pop  row_na  \n",
       "country                                      \n",
       "Afghanistan    0.601426   7528588.0       8  \n",
       "Albania       14.215342   1575788.0       1  \n",
       "Algeria        1.093393  25763106.0       4  \n",
       "Angola         5.856513  15383127.0       5  \n",
       "Argentina           NaN  38027774.0       1  \n",
       "\n",
       "[5 rows x 21 columns]"
      ]
     },
     "execution_count": 43,
     "metadata": {},
     "output_type": "execute_result"
    }
   ],
   "source": [
    "# Read data, take look\n",
    "df = pd.read_csv('corruption_dataset.csv',index_col=0)\n",
    "df.head()"
   ]
  },
  {
   "cell_type": "code",
   "execution_count": 44,
   "metadata": {},
   "outputs": [
    {
     "name": "stdout",
     "output_type": "stream",
     "text": [
      "(162, 21) \n",
      "\n",
      "['CPI_2015', 'Risk_Dec_15', 'Risk_Nov_14', 'year', 'electric_percap', 'food_prod_index', 'percent_forest', 'gdp', 'income_bottom_20', 'literacy_male', 'literacy_female', 'childmort', 'net_migration', 'pop', 'undernourish', 'school_complete', 'researchers', 'rural_pop', 'total_debt', 'urban_pop', 'row_na'] \n",
      "\n",
      "Number of NAs in  CPI_2015 is  0\n",
      "Number of NAs in  Risk_Dec_15 is  28\n",
      "Number of NAs in  Risk_Nov_14 is  28\n",
      "Number of NAs in  year is  0\n",
      "Number of NAs in  electric_percap is  28\n",
      "Number of NAs in  food_prod_index is  2\n",
      "Number of NAs in  percent_forest is  2\n",
      "Number of NAs in  gdp is  4\n",
      "Number of NAs in  income_bottom_20 is  86\n",
      "Number of NAs in  literacy_male is  121\n",
      "Number of NAs in  literacy_female is  122\n",
      "Number of NAs in  childmort is  0\n",
      "Number of NAs in  net_migration is  0\n",
      "Number of NAs in  pop is  1\n",
      "Number of NAs in  undernourish is  15\n",
      "Number of NAs in  school_complete is  47\n",
      "Number of NAs in  researchers is  94\n",
      "Number of NAs in  rural_pop is  1\n",
      "Number of NAs in  total_debt is  64\n",
      "Number of NAs in  urban_pop is  1\n",
      "Number of NAs in  row_na is  0\n"
     ]
    }
   ],
   "source": [
    "#Check shape\n",
    "print(df.shape, \"\\n\")\n",
    "\n",
    "#Check data quality, Make sure that no NA's in y target\n",
    "print(list(df.columns), \"\\n\")\n",
    "for col in list(df.columns):\n",
    "    print(\"Number of NAs in \",col, \"is \" , df[col].isna().sum())"
   ]
  },
  {
   "cell_type": "code",
   "execution_count": 45,
   "metadata": {},
   "outputs": [
    {
     "data": {
      "text/html": [
       "<div>\n",
       "<style scoped>\n",
       "    .dataframe tbody tr th:only-of-type {\n",
       "        vertical-align: middle;\n",
       "    }\n",
       "\n",
       "    .dataframe tbody tr th {\n",
       "        vertical-align: top;\n",
       "    }\n",
       "\n",
       "    .dataframe thead th {\n",
       "        text-align: right;\n",
       "    }\n",
       "</style>\n",
       "<table border=\"1\" class=\"dataframe\">\n",
       "  <thead>\n",
       "    <tr style=\"text-align: right;\">\n",
       "      <th></th>\n",
       "      <th>CPI_2015</th>\n",
       "      <th>Risk_Dec_15</th>\n",
       "      <th>Risk_Nov_14</th>\n",
       "      <th>year</th>\n",
       "      <th>electric_percap</th>\n",
       "      <th>food_prod_index</th>\n",
       "      <th>percent_forest</th>\n",
       "      <th>gdp</th>\n",
       "      <th>income_bottom_20</th>\n",
       "      <th>literacy_male</th>\n",
       "      <th>...</th>\n",
       "      <th>childmort</th>\n",
       "      <th>net_migration</th>\n",
       "      <th>pop</th>\n",
       "      <th>undernourish</th>\n",
       "      <th>school_complete</th>\n",
       "      <th>researchers</th>\n",
       "      <th>rural_pop</th>\n",
       "      <th>total_debt</th>\n",
       "      <th>urban_pop</th>\n",
       "      <th>row_na</th>\n",
       "    </tr>\n",
       "    <tr>\n",
       "      <th>country</th>\n",
       "      <th></th>\n",
       "      <th></th>\n",
       "      <th></th>\n",
       "      <th></th>\n",
       "      <th></th>\n",
       "      <th></th>\n",
       "      <th></th>\n",
       "      <th></th>\n",
       "      <th></th>\n",
       "      <th></th>\n",
       "      <th></th>\n",
       "      <th></th>\n",
       "      <th></th>\n",
       "      <th></th>\n",
       "      <th></th>\n",
       "      <th></th>\n",
       "      <th></th>\n",
       "      <th></th>\n",
       "      <th></th>\n",
       "      <th></th>\n",
       "      <th></th>\n",
       "    </tr>\n",
       "  </thead>\n",
       "  <tbody>\n",
       "    <tr>\n",
       "      <th>Afghanistan</th>\n",
       "      <td>89</td>\n",
       "      <td>-9999.0</td>\n",
       "      <td>-9999.0</td>\n",
       "      <td>2012</td>\n",
       "      <td>-9999.000000</td>\n",
       "      <td>122.13</td>\n",
       "      <td>2.067825</td>\n",
       "      <td>2.000162e+10</td>\n",
       "      <td>-9999.0</td>\n",
       "      <td>-9999.000000</td>\n",
       "      <td>...</td>\n",
       "      <td>82.6</td>\n",
       "      <td>448007.0</td>\n",
       "      <td>31161376.0</td>\n",
       "      <td>23.4</td>\n",
       "      <td>-9999.000000</td>\n",
       "      <td>-9999.00000</td>\n",
       "      <td>75.840</td>\n",
       "      <td>0.601426</td>\n",
       "      <td>7528588.0</td>\n",
       "      <td>8</td>\n",
       "    </tr>\n",
       "    <tr>\n",
       "      <th>Albania</th>\n",
       "      <td>64</td>\n",
       "      <td>67.8</td>\n",
       "      <td>66.3</td>\n",
       "      <td>2012</td>\n",
       "      <td>2118.327776</td>\n",
       "      <td>133.04</td>\n",
       "      <td>28.262044</td>\n",
       "      <td>1.231978e+10</td>\n",
       "      <td>8.9</td>\n",
       "      <td>98.352608</td>\n",
       "      <td>...</td>\n",
       "      <td>10.7</td>\n",
       "      <td>-93425.0</td>\n",
       "      <td>2900401.0</td>\n",
       "      <td>6.0</td>\n",
       "      <td>98.911697</td>\n",
       "      <td>-9999.00000</td>\n",
       "      <td>45.670</td>\n",
       "      <td>14.215342</td>\n",
       "      <td>1575788.0</td>\n",
       "      <td>1</td>\n",
       "    </tr>\n",
       "    <tr>\n",
       "      <th>Algeria</th>\n",
       "      <td>64</td>\n",
       "      <td>64.3</td>\n",
       "      <td>68.3</td>\n",
       "      <td>2012</td>\n",
       "      <td>1237.966507</td>\n",
       "      <td>149.67</td>\n",
       "      <td>0.811675</td>\n",
       "      <td>2.090590e+11</td>\n",
       "      <td>-9999.0</td>\n",
       "      <td>-9999.000000</td>\n",
       "      <td>...</td>\n",
       "      <td>26.1</td>\n",
       "      <td>-143268.0</td>\n",
       "      <td>37383887.0</td>\n",
       "      <td>5.0</td>\n",
       "      <td>101.450180</td>\n",
       "      <td>-9999.00000</td>\n",
       "      <td>31.085</td>\n",
       "      <td>1.093393</td>\n",
       "      <td>25763106.0</td>\n",
       "      <td>4</td>\n",
       "    </tr>\n",
       "    <tr>\n",
       "      <th>Angola</th>\n",
       "      <td>85</td>\n",
       "      <td>59.0</td>\n",
       "      <td>65.8</td>\n",
       "      <td>2012</td>\n",
       "      <td>219.253430</td>\n",
       "      <td>152.82</td>\n",
       "      <td>46.707627</td>\n",
       "      <td>1.280529e+11</td>\n",
       "      <td>-9999.0</td>\n",
       "      <td>-9999.000000</td>\n",
       "      <td>...</td>\n",
       "      <td>105.8</td>\n",
       "      <td>87322.0</td>\n",
       "      <td>25107931.0</td>\n",
       "      <td>35.1</td>\n",
       "      <td>-9999.000000</td>\n",
       "      <td>-9999.00000</td>\n",
       "      <td>38.732</td>\n",
       "      <td>5.856513</td>\n",
       "      <td>15383127.0</td>\n",
       "      <td>5</td>\n",
       "    </tr>\n",
       "    <tr>\n",
       "      <th>Argentina</th>\n",
       "      <td>68</td>\n",
       "      <td>66.5</td>\n",
       "      <td>63.8</td>\n",
       "      <td>2012</td>\n",
       "      <td>3000.603523</td>\n",
       "      <td>108.03</td>\n",
       "      <td>10.232215</td>\n",
       "      <td>5.459824e+11</td>\n",
       "      <td>4.9</td>\n",
       "      <td>99.111130</td>\n",
       "      <td>...</td>\n",
       "      <td>13.3</td>\n",
       "      <td>30000.0</td>\n",
       "      <td>41733271.0</td>\n",
       "      <td>3.7</td>\n",
       "      <td>103.231369</td>\n",
       "      <td>1199.36089</td>\n",
       "      <td>8.879</td>\n",
       "      <td>-9999.000000</td>\n",
       "      <td>38027774.0</td>\n",
       "      <td>1</td>\n",
       "    </tr>\n",
       "  </tbody>\n",
       "</table>\n",
       "<p>5 rows × 21 columns</p>\n",
       "</div>"
      ],
      "text/plain": [
       "             CPI_2015  Risk_Dec_15  Risk_Nov_14  year  electric_percap  \\\n",
       "country                                                                  \n",
       "Afghanistan        89      -9999.0      -9999.0  2012     -9999.000000   \n",
       "Albania            64         67.8         66.3  2012      2118.327776   \n",
       "Algeria            64         64.3         68.3  2012      1237.966507   \n",
       "Angola             85         59.0         65.8  2012       219.253430   \n",
       "Argentina          68         66.5         63.8  2012      3000.603523   \n",
       "\n",
       "             food_prod_index  percent_forest           gdp  income_bottom_20  \\\n",
       "country                                                                        \n",
       "Afghanistan           122.13        2.067825  2.000162e+10           -9999.0   \n",
       "Albania               133.04       28.262044  1.231978e+10               8.9   \n",
       "Algeria               149.67        0.811675  2.090590e+11           -9999.0   \n",
       "Angola                152.82       46.707627  1.280529e+11           -9999.0   \n",
       "Argentina             108.03       10.232215  5.459824e+11               4.9   \n",
       "\n",
       "             literacy_male  ...  childmort  net_migration         pop  \\\n",
       "country                     ...                                         \n",
       "Afghanistan   -9999.000000  ...       82.6       448007.0  31161376.0   \n",
       "Albania          98.352608  ...       10.7       -93425.0   2900401.0   \n",
       "Algeria       -9999.000000  ...       26.1      -143268.0  37383887.0   \n",
       "Angola        -9999.000000  ...      105.8        87322.0  25107931.0   \n",
       "Argentina        99.111130  ...       13.3        30000.0  41733271.0   \n",
       "\n",
       "             undernourish  school_complete  researchers  rural_pop  \\\n",
       "country                                                              \n",
       "Afghanistan          23.4     -9999.000000  -9999.00000     75.840   \n",
       "Albania               6.0        98.911697  -9999.00000     45.670   \n",
       "Algeria               5.0       101.450180  -9999.00000     31.085   \n",
       "Angola               35.1     -9999.000000  -9999.00000     38.732   \n",
       "Argentina             3.7       103.231369   1199.36089      8.879   \n",
       "\n",
       "              total_debt   urban_pop  row_na  \n",
       "country                                       \n",
       "Afghanistan     0.601426   7528588.0       8  \n",
       "Albania        14.215342   1575788.0       1  \n",
       "Algeria         1.093393  25763106.0       4  \n",
       "Angola          5.856513  15383127.0       5  \n",
       "Argentina   -9999.000000  38027774.0       1  \n",
       "\n",
       "[5 rows x 21 columns]"
      ]
     },
     "execution_count": 45,
     "metadata": {},
     "output_type": "execute_result"
    }
   ],
   "source": [
    "# make NAs machine-friendly\n",
    "df = df.fillna(-9999)\n",
    "\n",
    "df.head() #Good to go"
   ]
  },
  {
   "cell_type": "code",
   "execution_count": 46,
   "metadata": {},
   "outputs": [],
   "source": [
    "# Save in format for machine\n",
    "X = df.iloc[:,1:df.shape[1]]\n",
    "y = df['CPI_2015']"
   ]
  },
  {
   "cell_type": "markdown",
   "metadata": {},
   "source": [
    "## Training, predicting, Visualization\n",
    "First we run a decision tree with large min leaf size, then one with a smaller sample size to show the effect. Note how easy sklearn makes it to get started! Can even do it in three lines!"
   ]
  },
  {
   "cell_type": "code",
   "execution_count": 47,
   "metadata": {},
   "outputs": [
    {
     "name": "stdout",
     "output_type": "stream",
     "text": [
      "RandomForestRegressor(bootstrap=True, criterion='mse', max_depth=None,\n",
      "                      max_features='auto', max_leaf_nodes=None,\n",
      "                      min_impurity_decrease=0.0, min_impurity_split=None,\n",
      "                      min_samples_leaf=7, min_samples_split=2,\n",
      "                      min_weight_fraction_leaf=0.0, n_estimators=1, n_jobs=None,\n",
      "                      oob_score=False, random_state=None, verbose=0,\n",
      "                      warm_start=False)\n"
     ]
    },
    {
     "data": {
      "text/plain": [
       "'Congrats on doing machine learning!'"
      ]
     },
     "execution_count": 47,
     "metadata": {},
     "output_type": "execute_result"
    }
   ],
   "source": [
    "#Set Seed (global)\n",
    "np.random.seed(123532)\n",
    "\n",
    "#run model\n",
    "rfr1 = RandomForestRegressor(n_estimators=1, min_samples_leaf=7)\n",
    "print(rfr1) #note defaults\n",
    "\n",
    "#reshape 1d X to 2d array and fit\n",
    "X_small= X['childmort'].values.reshape(-1, 1) \n",
    "rfr1.fit(X_small, y)\n",
    "\n",
    "\"Congrats on doing machine learning!\""
   ]
  },
  {
   "cell_type": "code",
   "execution_count": 48,
   "metadata": {},
   "outputs": [
    {
     "data": {
      "text/plain": [
       "RandomForestRegressor(bootstrap=True, criterion='mse', max_depth=None,\n",
       "                      max_features='auto', max_leaf_nodes=None,\n",
       "                      min_impurity_decrease=0.0, min_impurity_split=None,\n",
       "                      min_samples_leaf=1, min_samples_split=2,\n",
       "                      min_weight_fraction_leaf=0.0, n_estimators=1, n_jobs=None,\n",
       "                      oob_score=False, random_state=None, verbose=0,\n",
       "                      warm_start=False)"
      ]
     },
     "execution_count": 48,
     "metadata": {},
     "output_type": "execute_result"
    }
   ],
   "source": [
    "rfr2 = RandomForestRegressor(n_estimators=1, min_samples_leaf=1)\n",
    "rfr2.fit(X_small, y)\n",
    "rfr2"
   ]
  },
  {
   "cell_type": "code",
   "execution_count": 49,
   "metadata": {},
   "outputs": [],
   "source": [
    "# Make Predictions:\n",
    "X_pred = np.arange(0.0, 140.0, 0.1)[:, np.newaxis] #reshaping again\n",
    "y_pred = rfr1.predict(X_pred)\n",
    "y_pred2= rfr2.predict(X_pred)"
   ]
  },
  {
   "cell_type": "code",
   "execution_count": 50,
   "metadata": {},
   "outputs": [
    {
     "data": {
      "image/png": "[encoded data removed]",
      "text/plain": [
       "<Figure size 864x504 with 1 Axes>"
      ]
     },
     "metadata": {
      "needs_background": "light"
     },
     "output_type": "display_data"
    },
    {
     "data": {
      "image/png": "[encoded data removed]",
      "text/plain": [
       "<Figure size 864x504 with 1 Axes>"
      ]
     },
     "metadata": {
      "needs_background": "light"
     },
     "output_type": "display_data"
    }
   ],
   "source": [
    "# Visualize the tree (No Overfitting)\n",
    "# Plot the results\n",
    "plt.figure(figsize=(12,7))\n",
    "plt.scatter(X_small, y, s=20, edgecolor=\"black\",\n",
    "            c=\"darkorange\", label=\"data\")\n",
    "plt.plot(X_pred, y_pred, color=\"cornflowerblue\",\n",
    "         label=\"min_samples_leaf=7\", linewidth=3)\n",
    "plt.xlabel(\"Child Mortality\")\n",
    "plt.ylabel(\"Corruption Perception\")\n",
    "plt.title(\"Decision Tree Regression\")\n",
    "plt.legend()\n",
    "plt.show()\n",
    "\n",
    "# Visualize the tree\n",
    "# Plot the results\n",
    "plt.figure(figsize=(12,7))\n",
    "plt.scatter(X_small, y, s=20, edgecolor=\"black\",\n",
    "            c=\"darkorange\", label=\"data\")\n",
    "plt.plot(X_pred, y_pred2, color=\"yellowgreen\", label=\"min_samples_leaf=1\")\n",
    "plt.xlabel(\"Child Mortality\")\n",
    "plt.ylabel(\"Corruption Perception\")\n",
    "plt.title(\"Decision Tree Regression\")\n",
    "plt.legend()\n",
    "plt.show()\n"
   ]
  },
  {
   "cell_type": "markdown",
   "metadata": {},
   "source": [
    "### Demonstrate RandomForest output"
   ]
  },
  {
   "cell_type": "code",
   "execution_count": 12,
   "metadata": {},
   "outputs": [
    {
     "data": {
      "image/png": "[encoded data removed]",
      "text/plain": [
       "<Figure size 864x504 with 1 Axes>"
      ]
     },
     "metadata": {
      "needs_background": "light"
     },
     "output_type": "display_data"
    }
   ],
   "source": [
    "#Now Build a random forest with 1000 trees and a min_samples_leaf=7\n",
    "rfr3 = RandomForestRegressor(n_estimators=1000, min_samples_leaf=7,random_state=346234) #random state another way to not set seed\n",
    "rfr3.fit(X_small, y)\n",
    "y_pred3 = rfr3.predict(X_pred)\n",
    "\n",
    "# Plot\n",
    "plt.figure(figsize=(12,7))\n",
    "plt.scatter(X_small, y, s=20, edgecolor=\"black\",\n",
    "            c=\"darkorange\", label=\"data\")\n",
    "plt.plot(X_pred, y_pred3, color=\"yellowgreen\", label=\"min_samples_leaf=1\",linewidth=3)\n",
    "plt.xlabel(\"Child Mortality\")\n",
    "plt.ylabel(\"Corruption Perception\")\n",
    "plt.title(\"Decision Tree Regression\")\n",
    "plt.legend()\n",
    "plt.show()\n"
   ]
  },
  {
   "cell_type": "markdown",
   "metadata": {},
   "source": [
    "## Cross Validation"
   ]
  },
  {
   "cell_type": "code",
   "execution_count": 13,
   "metadata": {},
   "outputs": [
    {
     "name": "stdout",
     "output_type": "stream",
     "text": [
      "(121, 1)\n",
      "(41, 1)\n"
     ]
    }
   ],
   "source": [
    "# Split up into training and testing data\n",
    "X_train, X_test, y_train, y_test = train_test_split(\n",
    "    X_small,y, test_size=0.25) #testing on 25% of the data\n",
    "\n",
    "print(X_train.shape)\n",
    "print(X_test.shape)"
   ]
  },
  {
   "cell_type": "code",
   "execution_count": 14,
   "metadata": {},
   "outputs": [
    {
     "name": "stdout",
     "output_type": "stream",
     "text": [
      "Training MSE is:  43.05465605112739\n",
      "Testing MSE is:  230.54699365804234\n"
     ]
    }
   ],
   "source": [
    "rfr4 = RandomForestRegressor(n_estimators=100, min_samples_leaf=1)\n",
    "rfr4.fit(X_train, y_train)\n",
    "\n",
    "#Evaluate on training set to get MSE\n",
    "y_model = rfr4.predict(X_train)\n",
    "sq_dist = (y_model-y_train)**2  #Vectorized math through numpy\n",
    "mse_train = sq_dist.sum()/X_train.shape[0]\n",
    "print(\"Training MSE is: \", mse_train)\n",
    "\n",
    "#Evaluate on testing set to get MSE\n",
    "y_model = rfr4.predict(X_test)\n",
    "sq_dist = (y_model-y_test)**2  #Vectorized math through numpy\n",
    "mse_test = sq_dist.sum()/X_test.shape[0]\n",
    "print(\"Testing MSE is: \", mse_test)  #Hence overfitting problem "
   ]
  },
  {
   "cell_type": "markdown",
   "metadata": {},
   "source": [
    "Note you can use the `KFold` function in `sklearn.model_selection` to do cross validation without the CV Search used below. Likewise remember that CV uses the whole dataset as both testing and trainig datas rotating through all possible splits."
   ]
  },
  {
   "cell_type": "markdown",
   "metadata": {},
   "source": [
    "## Hyperparam Search"
   ]
  },
  {
   "cell_type": "code",
   "execution_count": 15,
   "metadata": {},
   "outputs": [],
   "source": [
    "#long way \n",
    "min_samp= [3,6,10]\n",
    "n_estimators = [2,6,14]\n",
    "\n",
    "param_grid = [(i,j) for i in min_samp for j in n_estimators] #etc etc etc"
   ]
  },
  {
   "cell_type": "code",
   "execution_count": 20,
   "metadata": {},
   "outputs": [
    {
     "data": {
      "text/plain": [
       "GridSearchCV(cv=5, error_score='raise-deprecating',\n",
       "             estimator=RandomForestRegressor(bootstrap=True, criterion='mse',\n",
       "                                             max_depth=None,\n",
       "                                             max_features='auto',\n",
       "                                             max_leaf_nodes=None,\n",
       "                                             min_impurity_decrease=0.0,\n",
       "                                             min_impurity_split=None,\n",
       "                                             min_samples_leaf=1,\n",
       "                                             min_samples_split=2,\n",
       "                                             min_weight_fraction_leaf=0.0,\n",
       "                                             n_estimators='warn', n_jobs=None,\n",
       "                                             oob_score=False, random_state=None,\n",
       "                                             verbose=0, warm_start=False),\n",
       "             iid=False, n_jobs=None,\n",
       "             param_grid={'min_samples_leaf': [1, 5, 10, 15, 20],\n",
       "                         'n_estimators': [1, 5, 35, 75, 100, 200]},\n",
       "             pre_dispatch='2*n_jobs', refit=True, return_train_score=False,\n",
       "             scoring='neg_mean_squared_error', verbose=0)"
      ]
     },
     "execution_count": 20,
     "metadata": {},
     "output_type": "execute_result"
    }
   ],
   "source": [
    "# Easy way using gridsearch\n",
    "param_grid = {'min_samples_leaf':[1,5,10,15,20], 'n_estimators':[1,5,35,75,100,200]}\n",
    "\n",
    "rfr = RandomForestRegressor() #parameters to keep constant\n",
    "rfr_gscv = GridSearchCV(rfr, param_grid, cv=5, scoring ='neg_mean_squared_error',iid=False)\n",
    "rfr_gscv.fit(X_small, y)"
   ]
  },
  {
   "cell_type": "code",
   "execution_count": 22,
   "metadata": {},
   "outputs": [
    {
     "data": {
      "text/plain": [
       "{'min_samples_leaf': 10, 'n_estimators': 35}"
      ]
     },
     "execution_count": 22,
     "metadata": {},
     "output_type": "execute_result"
    }
   ],
   "source": [
    "# See our results!\n",
    "# rfr_gscv.best_score_\n",
    "rfr_gscv.best_params_"
   ]
  },
  {
   "cell_type": "code",
   "execution_count": 24,
   "metadata": {},
   "outputs": [
    {
     "data": {
      "image/png": "[encoded data removed]",
      "text/plain": [
       "<Figure size 864x504 with 1 Axes>"
      ]
     },
     "metadata": {
      "needs_background": "light"
     },
     "output_type": "display_data"
    }
   ],
   "source": [
    "#Visualize the best\n",
    "rfr5 = RandomForestRegressor(min_samples_leaf=10, n_estimators=35)\n",
    "rfr5.fit(X_small, y)\n",
    "y_pred5 = rfr5.predict(X_pred)\n",
    "\n",
    "# Plot\n",
    "plt.figure(figsize=(12,7))\n",
    "plt.scatter(X_small, y, s=20, edgecolor=\"black\",\n",
    "            c=\"darkorange\", label=\"data\")\n",
    "plt.plot(X_pred, y_pred5, color=\"yellowgreen\", label=\"min_samples_leaf=1\",linewidth=3)\n",
    "plt.xlabel(\"Child Mortality\")\n",
    "plt.ylabel(\"Corruption Perception\")\n",
    "plt.title(\"Decision Tree Regression\")\n",
    "plt.legend()\n",
    "plt.show()\n"
   ]
  },
  {
   "cell_type": "markdown",
   "metadata": {},
   "source": [
    "Note: there are dangers of the above when using too fine-grained of a search (begin to \"*fit the testing set*\")"
   ]
  },
  {
   "cell_type": "markdown",
   "metadata": {},
   "source": [
    "Make a note of the fact that after you've done the cross validation to pick the best paramater, when you go back to get your predictions, you should use the full model. I.e. train a model with the *same* parameters that you found in the original, then train with those parameters on the full dataset.  **This will be a different model than training with the same parameters on the smaller dataset**.\n",
    "\n",
    "### Permutation Importance using ELI5\n",
    "Permutation importance is shortly coming to Sklearn, but for now we have to use an older package."
   ]
  },
  {
   "cell_type": "code",
   "execution_count": 26,
   "metadata": {},
   "outputs": [
    {
     "name": "stdout",
     "output_type": "stream",
     "text": [
      "Collecting eli5\n",
      "  Using cached https://files.pythonhosted.org/packages/97/2f/c85c7d8f8548e460829971785347e14e45fa5c6617da374711dec8cb38cc/eli5-0.10.1-py2.py3-none-any.whl\n",
      "Requirement already satisfied: graphviz in /srv/conda/envs/notebook/lib/python3.7/site-packages (from eli5) (0.12)\n",
      "Requirement already satisfied: six in /srv/conda/envs/notebook/lib/python3.7/site-packages (from eli5) (1.12.0)\n",
      "Requirement already satisfied: numpy>=1.9.0 in /srv/conda/envs/notebook/lib/python3.7/site-packages (from eli5) (1.17.0)\n",
      "Requirement already satisfied: jinja2 in /srv/conda/envs/notebook/lib/python3.7/site-packages (from eli5) (2.10.1)\n",
      "Requirement already satisfied: attrs>16.0.0 in /srv/conda/envs/notebook/lib/python3.7/site-packages (from eli5) (19.1.0)\n",
      "Requirement already satisfied: scikit-learn>=0.18 in /srv/conda/envs/notebook/lib/python3.7/site-packages (from eli5) (0.21.3)\n",
      "Requirement already satisfied: tabulate>=0.7.7 in /srv/conda/envs/notebook/lib/python3.7/site-packages (from eli5) (0.8.3)\n",
      "Requirement already satisfied: scipy in /srv/conda/envs/notebook/lib/python3.7/site-packages (from eli5) (1.3.1)\n",
      "Requirement already satisfied: MarkupSafe>=0.23 in /srv/conda/envs/notebook/lib/python3.7/site-packages (from jinja2->eli5) (1.1.1)\n",
      "Requirement already satisfied: joblib>=0.11 in /srv/conda/envs/notebook/lib/python3.7/site-packages (from scikit-learn>=0.18->eli5) (0.13.2)\n",
      "Installing collected packages: eli5\n",
      "Successfully installed eli5-0.10.1\n"
     ]
    }
   ],
   "source": [
    "!pip install eli5"
   ]
  },
  {
   "cell_type": "code",
   "execution_count": 28,
   "metadata": {},
   "outputs": [],
   "source": [
    "import eli5\n",
    "from eli5.sklearn import PermutationImportance"
   ]
  },
  {
   "cell_type": "code",
   "execution_count": 30,
   "metadata": {},
   "outputs": [
    {
     "data": {
      "text/plain": [
       "PermutationImportance(cv=5,\n",
       "                      estimator=RandomForestRegressor(bootstrap=True,\n",
       "                                                      criterion='mse',\n",
       "                                                      max_depth=None,\n",
       "                                                      max_features='auto',\n",
       "                                                      max_leaf_nodes=None,\n",
       "                                                      min_impurity_decrease=0.0,\n",
       "                                                      min_impurity_split=None,\n",
       "                                                      min_samples_leaf=10,\n",
       "                                                      min_samples_split=2,\n",
       "                                                      min_weight_fraction_leaf=0.0,\n",
       "                                                      n_estimators=35,\n",
       "                                                      n_jobs=None,\n",
       "                                                      oob_score=False,\n",
       "                                                      random_state=None,\n",
       "                                                      verbose=0,\n",
       "                                                      warm_start=False),\n",
       "                      n_iter=5, random_state=None, refit=True, scoring=None)"
      ]
     },
     "execution_count": 30,
     "metadata": {},
     "output_type": "execute_result"
    }
   ],
   "source": [
    "# Run permutation importance\n",
    "perm = PermutationImportance(rfr5, cv=5)\n",
    "perm.fit(X_small, y)"
   ]
  },
  {
   "cell_type": "code",
   "execution_count": 33,
   "metadata": {},
   "outputs": [
    {
     "data": {
      "text/html": [
       "<div>\n",
       "<style scoped>\n",
       "    .dataframe tbody tr th:only-of-type {\n",
       "        vertical-align: middle;\n",
       "    }\n",
       "\n",
       "    .dataframe tbody tr th {\n",
       "        vertical-align: top;\n",
       "    }\n",
       "\n",
       "    .dataframe thead th {\n",
       "        text-align: right;\n",
       "    }\n",
       "</style>\n",
       "<table border=\"1\" class=\"dataframe\">\n",
       "  <thead>\n",
       "    <tr style=\"text-align: right;\">\n",
       "      <th></th>\n",
       "      <th>feature</th>\n",
       "      <th>weight</th>\n",
       "      <th>std</th>\n",
       "    </tr>\n",
       "  </thead>\n",
       "  <tbody>\n",
       "    <tr>\n",
       "      <th>0</th>\n",
       "      <td>x0</td>\n",
       "      <td>1.36922</td>\n",
       "      <td>0.408843</td>\n",
       "    </tr>\n",
       "  </tbody>\n",
       "</table>\n",
       "</div>"
      ],
      "text/plain": [
       "  feature   weight       std\n",
       "0      x0  1.36922  0.408843"
      ]
     },
     "execution_count": 33,
     "metadata": {},
     "output_type": "execute_result"
    }
   ],
   "source": [
    "# Extract results (not interesting because only one variable)\n",
    "eli5.show_weights(perm)\n",
    "eli5.explain_weights_df(perm)"
   ]
  },
  {
   "cell_type": "markdown",
   "metadata": {},
   "source": [
    "## Exercise:\n",
    "Using what you've learned today, create your own model to predict corruption from the covariates. Pick variables you think are relevant (and that might cause corruption perception to be higher or lower). Do cross validation on your model to pick the best hyperparameters and then use the permutation importance to determine the relative importance of each variable.\n",
    "\n",
    "**Bonus Q:** Make up some realitistic values for the variables for a fake country. See what the model predicts for this country.  Does your model predict that corruption will be high or low in this fake country?"
   ]
  }
 ],
 "metadata": {
  "kernelspec": {
   "display_name": "Python 3",
   "language": "python",
   "name": "python3"
  },
  "language_info": {
   "codemirror_mode": {
    "name": "ipython",
    "version": 3
   },
   "file_extension": ".py",
   "mimetype": "text/x-python",
   "name": "python",
   "nbconvert_exporter": "python",
   "pygments_lexer": "ipython3",
   "version": "3.7.3"
  }
 },
 "nbformat": 4,
 "nbformat_minor": 4
}
