{
 "cells": [
  {
   "cell_type": "markdown",
   "metadata": {},
   "source": [
    "# Machine Learning using Sklearn with a Focus on practical implementation\n",
    "Designed for an introductory workshop introducing the scikit-learn package and how to get start using the models for research work (especially with an emphasis on the social sciences). Implementation mostly focuses on regression problems and Random Forests."
   ]
  },
  {
   "cell_type": "code",
   "execution_count": 93,
   "metadata": {},
   "outputs": [],
   "source": [
    "import pandas as pd\n",
    "import numpy as np\n",
    "import matplotlib.pyplot as plt\n",
    "\n",
    "from sklearn.ensemble import RandomForestRegressor\n",
    "from sklearn.model_selection import train_test_split\n"
   ]
  },
  {
   "cell_type": "markdown",
   "metadata": {},
   "source": [
    "### Data Preprocessing"
   ]
  },
  {
   "cell_type": "code",
   "execution_count": 94,
   "metadata": {},
   "outputs": [
    {
     "data": {
      "text/html": [
       "<div>\n",
       "<style scoped>\n",
       "    .dataframe tbody tr th:only-of-type {\n",
       "        vertical-align: middle;\n",
       "    }\n",
       "\n",
       "    .dataframe tbody tr th {\n",
       "        vertical-align: top;\n",
       "    }\n",
       "\n",
       "    .dataframe thead th {\n",
       "        text-align: right;\n",
       "    }\n",
       "</style>\n",
       "<table border=\"1\" class=\"dataframe\">\n",
       "  <thead>\n",
       "    <tr style=\"text-align: right;\">\n",
       "      <th></th>\n",
       "      <th>CPI_2015</th>\n",
       "      <th>Risk_Dec_15</th>\n",
       "      <th>Risk_Nov_14</th>\n",
       "      <th>year</th>\n",
       "      <th>electric_percap</th>\n",
       "      <th>food_prod_index</th>\n",
       "      <th>percent_forest</th>\n",
       "      <th>gdp</th>\n",
       "      <th>income_bottom_20</th>\n",
       "      <th>literacy_male</th>\n",
       "      <th>...</th>\n",
       "      <th>childmort</th>\n",
       "      <th>net_migration</th>\n",
       "      <th>pop</th>\n",
       "      <th>undernourish</th>\n",
       "      <th>school_complete</th>\n",
       "      <th>researchers</th>\n",
       "      <th>rural_pop</th>\n",
       "      <th>total_debt</th>\n",
       "      <th>urban_pop</th>\n",
       "      <th>row_na</th>\n",
       "    </tr>\n",
       "    <tr>\n",
       "      <th>country</th>\n",
       "      <th></th>\n",
       "      <th></th>\n",
       "      <th></th>\n",
       "      <th></th>\n",
       "      <th></th>\n",
       "      <th></th>\n",
       "      <th></th>\n",
       "      <th></th>\n",
       "      <th></th>\n",
       "      <th></th>\n",
       "      <th></th>\n",
       "      <th></th>\n",
       "      <th></th>\n",
       "      <th></th>\n",
       "      <th></th>\n",
       "      <th></th>\n",
       "      <th></th>\n",
       "      <th></th>\n",
       "      <th></th>\n",
       "      <th></th>\n",
       "      <th></th>\n",
       "    </tr>\n",
       "  </thead>\n",
       "  <tbody>\n",
       "    <tr>\n",
       "      <th>Afghanistan</th>\n",
       "      <td>89</td>\n",
       "      <td>NaN</td>\n",
       "      <td>NaN</td>\n",
       "      <td>2012</td>\n",
       "      <td>NaN</td>\n",
       "      <td>122.13</td>\n",
       "      <td>2.067825</td>\n",
       "      <td>2.000162e+10</td>\n",
       "      <td>NaN</td>\n",
       "      <td>NaN</td>\n",
       "      <td>...</td>\n",
       "      <td>82.6</td>\n",
       "      <td>448007.0</td>\n",
       "      <td>31161376.0</td>\n",
       "      <td>23.4</td>\n",
       "      <td>NaN</td>\n",
       "      <td>NaN</td>\n",
       "      <td>75.840</td>\n",
       "      <td>0.601426</td>\n",
       "      <td>7528588.0</td>\n",
       "      <td>8</td>\n",
       "    </tr>\n",
       "    <tr>\n",
       "      <th>Albania</th>\n",
       "      <td>64</td>\n",
       "      <td>67.8</td>\n",
       "      <td>66.3</td>\n",
       "      <td>2012</td>\n",
       "      <td>2118.327776</td>\n",
       "      <td>133.04</td>\n",
       "      <td>28.262044</td>\n",
       "      <td>1.231978e+10</td>\n",
       "      <td>8.9</td>\n",
       "      <td>98.352608</td>\n",
       "      <td>...</td>\n",
       "      <td>10.7</td>\n",
       "      <td>-93425.0</td>\n",
       "      <td>2900401.0</td>\n",
       "      <td>6.0</td>\n",
       "      <td>98.911697</td>\n",
       "      <td>NaN</td>\n",
       "      <td>45.670</td>\n",
       "      <td>14.215342</td>\n",
       "      <td>1575788.0</td>\n",
       "      <td>1</td>\n",
       "    </tr>\n",
       "    <tr>\n",
       "      <th>Algeria</th>\n",
       "      <td>64</td>\n",
       "      <td>64.3</td>\n",
       "      <td>68.3</td>\n",
       "      <td>2012</td>\n",
       "      <td>1237.966507</td>\n",
       "      <td>149.67</td>\n",
       "      <td>0.811675</td>\n",
       "      <td>2.090590e+11</td>\n",
       "      <td>NaN</td>\n",
       "      <td>NaN</td>\n",
       "      <td>...</td>\n",
       "      <td>26.1</td>\n",
       "      <td>-143268.0</td>\n",
       "      <td>37383887.0</td>\n",
       "      <td>5.0</td>\n",
       "      <td>101.450180</td>\n",
       "      <td>NaN</td>\n",
       "      <td>31.085</td>\n",
       "      <td>1.093393</td>\n",
       "      <td>25763106.0</td>\n",
       "      <td>4</td>\n",
       "    </tr>\n",
       "    <tr>\n",
       "      <th>Angola</th>\n",
       "      <td>85</td>\n",
       "      <td>59.0</td>\n",
       "      <td>65.8</td>\n",
       "      <td>2012</td>\n",
       "      <td>219.253430</td>\n",
       "      <td>152.82</td>\n",
       "      <td>46.707627</td>\n",
       "      <td>1.280529e+11</td>\n",
       "      <td>NaN</td>\n",
       "      <td>NaN</td>\n",
       "      <td>...</td>\n",
       "      <td>105.8</td>\n",
       "      <td>87322.0</td>\n",
       "      <td>25107931.0</td>\n",
       "      <td>35.1</td>\n",
       "      <td>NaN</td>\n",
       "      <td>NaN</td>\n",
       "      <td>38.732</td>\n",
       "      <td>5.856513</td>\n",
       "      <td>15383127.0</td>\n",
       "      <td>5</td>\n",
       "    </tr>\n",
       "    <tr>\n",
       "      <th>Argentina</th>\n",
       "      <td>68</td>\n",
       "      <td>66.5</td>\n",
       "      <td>63.8</td>\n",
       "      <td>2012</td>\n",
       "      <td>3000.603523</td>\n",
       "      <td>108.03</td>\n",
       "      <td>10.232215</td>\n",
       "      <td>5.459824e+11</td>\n",
       "      <td>4.9</td>\n",
       "      <td>99.111130</td>\n",
       "      <td>...</td>\n",
       "      <td>13.3</td>\n",
       "      <td>30000.0</td>\n",
       "      <td>41733271.0</td>\n",
       "      <td>3.7</td>\n",
       "      <td>103.231369</td>\n",
       "      <td>1199.36089</td>\n",
       "      <td>8.879</td>\n",
       "      <td>NaN</td>\n",
       "      <td>38027774.0</td>\n",
       "      <td>1</td>\n",
       "    </tr>\n",
       "  </tbody>\n",
       "</table>\n",
       "<p>5 rows × 21 columns</p>\n",
       "</div>"
      ],
      "text/plain": [
       "             CPI_2015  Risk_Dec_15  Risk_Nov_14  year  electric_percap  \\\n",
       "country                                                                  \n",
       "Afghanistan        89          NaN          NaN  2012              NaN   \n",
       "Albania            64         67.8         66.3  2012      2118.327776   \n",
       "Algeria            64         64.3         68.3  2012      1237.966507   \n",
       "Angola             85         59.0         65.8  2012       219.253430   \n",
       "Argentina          68         66.5         63.8  2012      3000.603523   \n",
       "\n",
       "             food_prod_index  percent_forest           gdp  income_bottom_20  \\\n",
       "country                                                                        \n",
       "Afghanistan           122.13        2.067825  2.000162e+10               NaN   \n",
       "Albania               133.04       28.262044  1.231978e+10               8.9   \n",
       "Algeria               149.67        0.811675  2.090590e+11               NaN   \n",
       "Angola                152.82       46.707627  1.280529e+11               NaN   \n",
       "Argentina             108.03       10.232215  5.459824e+11               4.9   \n",
       "\n",
       "             literacy_male  ...  childmort  net_migration         pop  \\\n",
       "country                     ...                                         \n",
       "Afghanistan            NaN  ...       82.6       448007.0  31161376.0   \n",
       "Albania          98.352608  ...       10.7       -93425.0   2900401.0   \n",
       "Algeria                NaN  ...       26.1      -143268.0  37383887.0   \n",
       "Angola                 NaN  ...      105.8        87322.0  25107931.0   \n",
       "Argentina        99.111130  ...       13.3        30000.0  41733271.0   \n",
       "\n",
       "             undernourish  school_complete  researchers  rural_pop  \\\n",
       "country                                                              \n",
       "Afghanistan          23.4              NaN          NaN     75.840   \n",
       "Albania               6.0        98.911697          NaN     45.670   \n",
       "Algeria               5.0       101.450180          NaN     31.085   \n",
       "Angola               35.1              NaN          NaN     38.732   \n",
       "Argentina             3.7       103.231369   1199.36089      8.879   \n",
       "\n",
       "             total_debt   urban_pop  row_na  \n",
       "country                                      \n",
       "Afghanistan    0.601426   7528588.0       8  \n",
       "Albania       14.215342   1575788.0       1  \n",
       "Algeria        1.093393  25763106.0       4  \n",
       "Angola         5.856513  15383127.0       5  \n",
       "Argentina           NaN  38027774.0       1  \n",
       "\n",
       "[5 rows x 21 columns]"
      ]
     },
     "execution_count": 94,
     "metadata": {},
     "output_type": "execute_result"
    }
   ],
   "source": [
    "# Read data, take look\n",
    "df = pd.read_csv('https://bit.ly/35NRNoD',index_col=0)\n",
    "df.head()"
   ]
  },
  {
   "cell_type": "code",
   "execution_count": 95,
   "metadata": {},
   "outputs": [
    {
     "name": "stdout",
     "output_type": "stream",
     "text": [
      "(162, 21) \n",
      "\n",
      "['CPI_2015', 'Risk_Dec_15', 'Risk_Nov_14', 'year', 'electric_percap', 'food_prod_index', 'percent_forest', 'gdp', 'income_bottom_20', 'literacy_male', 'literacy_female', 'childmort', 'net_migration', 'pop', 'undernourish', 'school_complete', 'researchers', 'rural_pop', 'total_debt', 'urban_pop', 'row_na']\n"
     ]
    }
   ],
   "source": [
    "#Check shape and variables\n",
    "print(df.shape, \"\\n\")\n",
    "\n",
    "var_names = list(df.columns) \n",
    "print(var_names)"
   ]
  },
  {
   "cell_type": "code",
   "execution_count": 96,
   "metadata": {},
   "outputs": [
    {
     "data": {
      "text/html": [
       "<div>\n",
       "<style scoped>\n",
       "    .dataframe tbody tr th:only-of-type {\n",
       "        vertical-align: middle;\n",
       "    }\n",
       "\n",
       "    .dataframe tbody tr th {\n",
       "        vertical-align: top;\n",
       "    }\n",
       "\n",
       "    .dataframe thead th {\n",
       "        text-align: right;\n",
       "    }\n",
       "</style>\n",
       "<table border=\"1\" class=\"dataframe\">\n",
       "  <thead>\n",
       "    <tr style=\"text-align: right;\">\n",
       "      <th></th>\n",
       "      <th>CPI_2015</th>\n",
       "      <th>Risk_Dec_15</th>\n",
       "      <th>Risk_Nov_14</th>\n",
       "      <th>year</th>\n",
       "      <th>electric_percap</th>\n",
       "      <th>food_prod_index</th>\n",
       "      <th>percent_forest</th>\n",
       "      <th>gdp</th>\n",
       "      <th>income_bottom_20</th>\n",
       "      <th>literacy_male</th>\n",
       "      <th>...</th>\n",
       "      <th>childmort</th>\n",
       "      <th>net_migration</th>\n",
       "      <th>pop</th>\n",
       "      <th>undernourish</th>\n",
       "      <th>school_complete</th>\n",
       "      <th>researchers</th>\n",
       "      <th>rural_pop</th>\n",
       "      <th>total_debt</th>\n",
       "      <th>urban_pop</th>\n",
       "      <th>row_na</th>\n",
       "    </tr>\n",
       "    <tr>\n",
       "      <th>country</th>\n",
       "      <th></th>\n",
       "      <th></th>\n",
       "      <th></th>\n",
       "      <th></th>\n",
       "      <th></th>\n",
       "      <th></th>\n",
       "      <th></th>\n",
       "      <th></th>\n",
       "      <th></th>\n",
       "      <th></th>\n",
       "      <th></th>\n",
       "      <th></th>\n",
       "      <th></th>\n",
       "      <th></th>\n",
       "      <th></th>\n",
       "      <th></th>\n",
       "      <th></th>\n",
       "      <th></th>\n",
       "      <th></th>\n",
       "      <th></th>\n",
       "      <th></th>\n",
       "    </tr>\n",
       "  </thead>\n",
       "  <tbody>\n",
       "    <tr>\n",
       "      <th>Afghanistan</th>\n",
       "      <td>89</td>\n",
       "      <td>-9999.0</td>\n",
       "      <td>-9999.0</td>\n",
       "      <td>2012</td>\n",
       "      <td>-9999.000000</td>\n",
       "      <td>122.13</td>\n",
       "      <td>2.067825</td>\n",
       "      <td>2.000162e+10</td>\n",
       "      <td>-9999.0</td>\n",
       "      <td>-9999.000000</td>\n",
       "      <td>...</td>\n",
       "      <td>82.6</td>\n",
       "      <td>448007.0</td>\n",
       "      <td>31161376.0</td>\n",
       "      <td>23.4</td>\n",
       "      <td>-9999.000000</td>\n",
       "      <td>-9999.00000</td>\n",
       "      <td>75.840</td>\n",
       "      <td>0.601426</td>\n",
       "      <td>7528588.0</td>\n",
       "      <td>8</td>\n",
       "    </tr>\n",
       "    <tr>\n",
       "      <th>Albania</th>\n",
       "      <td>64</td>\n",
       "      <td>67.8</td>\n",
       "      <td>66.3</td>\n",
       "      <td>2012</td>\n",
       "      <td>2118.327776</td>\n",
       "      <td>133.04</td>\n",
       "      <td>28.262044</td>\n",
       "      <td>1.231978e+10</td>\n",
       "      <td>8.9</td>\n",
       "      <td>98.352608</td>\n",
       "      <td>...</td>\n",
       "      <td>10.7</td>\n",
       "      <td>-93425.0</td>\n",
       "      <td>2900401.0</td>\n",
       "      <td>6.0</td>\n",
       "      <td>98.911697</td>\n",
       "      <td>-9999.00000</td>\n",
       "      <td>45.670</td>\n",
       "      <td>14.215342</td>\n",
       "      <td>1575788.0</td>\n",
       "      <td>1</td>\n",
       "    </tr>\n",
       "    <tr>\n",
       "      <th>Algeria</th>\n",
       "      <td>64</td>\n",
       "      <td>64.3</td>\n",
       "      <td>68.3</td>\n",
       "      <td>2012</td>\n",
       "      <td>1237.966507</td>\n",
       "      <td>149.67</td>\n",
       "      <td>0.811675</td>\n",
       "      <td>2.090590e+11</td>\n",
       "      <td>-9999.0</td>\n",
       "      <td>-9999.000000</td>\n",
       "      <td>...</td>\n",
       "      <td>26.1</td>\n",
       "      <td>-143268.0</td>\n",
       "      <td>37383887.0</td>\n",
       "      <td>5.0</td>\n",
       "      <td>101.450180</td>\n",
       "      <td>-9999.00000</td>\n",
       "      <td>31.085</td>\n",
       "      <td>1.093393</td>\n",
       "      <td>25763106.0</td>\n",
       "      <td>4</td>\n",
       "    </tr>\n",
       "    <tr>\n",
       "      <th>Angola</th>\n",
       "      <td>85</td>\n",
       "      <td>59.0</td>\n",
       "      <td>65.8</td>\n",
       "      <td>2012</td>\n",
       "      <td>219.253430</td>\n",
       "      <td>152.82</td>\n",
       "      <td>46.707627</td>\n",
       "      <td>1.280529e+11</td>\n",
       "      <td>-9999.0</td>\n",
       "      <td>-9999.000000</td>\n",
       "      <td>...</td>\n",
       "      <td>105.8</td>\n",
       "      <td>87322.0</td>\n",
       "      <td>25107931.0</td>\n",
       "      <td>35.1</td>\n",
       "      <td>-9999.000000</td>\n",
       "      <td>-9999.00000</td>\n",
       "      <td>38.732</td>\n",
       "      <td>5.856513</td>\n",
       "      <td>15383127.0</td>\n",
       "      <td>5</td>\n",
       "    </tr>\n",
       "    <tr>\n",
       "      <th>Argentina</th>\n",
       "      <td>68</td>\n",
       "      <td>66.5</td>\n",
       "      <td>63.8</td>\n",
       "      <td>2012</td>\n",
       "      <td>3000.603523</td>\n",
       "      <td>108.03</td>\n",
       "      <td>10.232215</td>\n",
       "      <td>5.459824e+11</td>\n",
       "      <td>4.9</td>\n",
       "      <td>99.111130</td>\n",
       "      <td>...</td>\n",
       "      <td>13.3</td>\n",
       "      <td>30000.0</td>\n",
       "      <td>41733271.0</td>\n",
       "      <td>3.7</td>\n",
       "      <td>103.231369</td>\n",
       "      <td>1199.36089</td>\n",
       "      <td>8.879</td>\n",
       "      <td>-9999.000000</td>\n",
       "      <td>38027774.0</td>\n",
       "      <td>1</td>\n",
       "    </tr>\n",
       "  </tbody>\n",
       "</table>\n",
       "<p>5 rows × 21 columns</p>\n",
       "</div>"
      ],
      "text/plain": [
       "             CPI_2015  Risk_Dec_15  Risk_Nov_14  year  electric_percap  \\\n",
       "country                                                                  \n",
       "Afghanistan        89      -9999.0      -9999.0  2012     -9999.000000   \n",
       "Albania            64         67.8         66.3  2012      2118.327776   \n",
       "Algeria            64         64.3         68.3  2012      1237.966507   \n",
       "Angola             85         59.0         65.8  2012       219.253430   \n",
       "Argentina          68         66.5         63.8  2012      3000.603523   \n",
       "\n",
       "             food_prod_index  percent_forest           gdp  income_bottom_20  \\\n",
       "country                                                                        \n",
       "Afghanistan           122.13        2.067825  2.000162e+10           -9999.0   \n",
       "Albania               133.04       28.262044  1.231978e+10               8.9   \n",
       "Algeria               149.67        0.811675  2.090590e+11           -9999.0   \n",
       "Angola                152.82       46.707627  1.280529e+11           -9999.0   \n",
       "Argentina             108.03       10.232215  5.459824e+11               4.9   \n",
       "\n",
       "             literacy_male  ...  childmort  net_migration         pop  \\\n",
       "country                     ...                                         \n",
       "Afghanistan   -9999.000000  ...       82.6       448007.0  31161376.0   \n",
       "Albania          98.352608  ...       10.7       -93425.0   2900401.0   \n",
       "Algeria       -9999.000000  ...       26.1      -143268.0  37383887.0   \n",
       "Angola        -9999.000000  ...      105.8        87322.0  25107931.0   \n",
       "Argentina        99.111130  ...       13.3        30000.0  41733271.0   \n",
       "\n",
       "             undernourish  school_complete  researchers  rural_pop  \\\n",
       "country                                                              \n",
       "Afghanistan          23.4     -9999.000000  -9999.00000     75.840   \n",
       "Albania               6.0        98.911697  -9999.00000     45.670   \n",
       "Algeria               5.0       101.450180  -9999.00000     31.085   \n",
       "Angola               35.1     -9999.000000  -9999.00000     38.732   \n",
       "Argentina             3.7       103.231369   1199.36089      8.879   \n",
       "\n",
       "              total_debt   urban_pop  row_na  \n",
       "country                                       \n",
       "Afghanistan     0.601426   7528588.0       8  \n",
       "Albania        14.215342   1575788.0       1  \n",
       "Algeria         1.093393  25763106.0       4  \n",
       "Angola          5.856513  15383127.0       5  \n",
       "Argentina   -9999.000000  38027774.0       1  \n",
       "\n",
       "[5 rows x 21 columns]"
      ]
     },
     "execution_count": 96,
     "metadata": {},
     "output_type": "execute_result"
    }
   ],
   "source": [
    "# make NAs machine-friendly\n",
    "df = df.fillna(-9999)\n",
    "df.head()"
   ]
  },
  {
   "cell_type": "code",
   "execution_count": 97,
   "metadata": {},
   "outputs": [
    {
     "name": "stdout",
     "output_type": "stream",
     "text": [
      "(162,)\n",
      "(162, 20)\n"
     ]
    },
    {
     "data": {
      "text/plain": [
       "(162, 1)"
      ]
     },
     "execution_count": 97,
     "metadata": {},
     "output_type": "execute_result"
    }
   ],
   "source": [
    "# Save in format for machine\n",
    "X = df.iloc[:, 1:len(var_names)]\n",
    "y = df['CPI_2015']\n",
    "\n",
    "print(y.shape)\n",
    "print(X.shape)\n",
    "\n",
    "X_small= X['childmort'].values.reshape(-1, 1) #worth doing step by step, -1 means \"undetermined length\"\n",
    "X_small.shape"
   ]
  },
  {
   "cell_type": "markdown",
   "metadata": {},
   "source": [
    "## Training, predicting, Visualization\n",
    "First we run a decision tree with large min leaf size, then one with a smaller sample size to show the effect. Note how easy sklearn makes it to get started! Can even do it in three lines!"
   ]
  },
  {
   "cell_type": "code",
   "execution_count": 98,
   "metadata": {},
   "outputs": [
    {
     "name": "stdout",
     "output_type": "stream",
     "text": [
      "RandomForestRegressor(bootstrap=True, ccp_alpha=0.0, criterion='mse',\n",
      "                      max_depth=None, max_features='auto', max_leaf_nodes=None,\n",
      "                      max_samples=None, min_impurity_decrease=0.0,\n",
      "                      min_impurity_split=None, min_samples_leaf=7,\n",
      "                      min_samples_split=2, min_weight_fraction_leaf=0.0,\n",
      "                      n_estimators=1, n_jobs=None, oob_score=False,\n",
      "                      random_state=None, verbose=0, warm_start=False)\n"
     ]
    },
    {
     "data": {
      "text/plain": [
       "RandomForestRegressor(bootstrap=True, ccp_alpha=0.0, criterion='mse',\n",
       "                      max_depth=None, max_features='auto', max_leaf_nodes=None,\n",
       "                      max_samples=None, min_impurity_decrease=0.0,\n",
       "                      min_impurity_split=None, min_samples_leaf=7,\n",
       "                      min_samples_split=2, min_weight_fraction_leaf=0.0,\n",
       "                      n_estimators=1, n_jobs=None, oob_score=False,\n",
       "                      random_state=None, verbose=0, warm_start=False)"
      ]
     },
     "execution_count": 98,
     "metadata": {},
     "output_type": "execute_result"
    }
   ],
   "source": [
    "#Set Seed (global)\n",
    "np.random.seed(1234)\n",
    "\n",
    "#run model\n",
    "rfr1 = RandomForestRegressor(n_estimators=1, min_samples_leaf=7)\n",
    "print(rfr1) #note defaults\n",
    "\n",
    "#reshape 1d X to 2d array and fit\n",
    "rfr1.fit(X_small, y)"
   ]
  },
  {
   "cell_type": "markdown",
   "metadata": {},
   "source": [
    "**Congrats on doing machine learning!**\n",
    "\n",
    "Let's train a second model to compare to the first later, only difference is now we allow the algorithm to make a larger number of leaves"
   ]
  },
  {
   "cell_type": "code",
   "execution_count": 99,
   "metadata": {},
   "outputs": [
    {
     "data": {
      "text/plain": [
       "RandomForestRegressor(bootstrap=True, ccp_alpha=0.0, criterion='mse',\n",
       "                      max_depth=None, max_features='auto', max_leaf_nodes=None,\n",
       "                      max_samples=None, min_impurity_decrease=0.0,\n",
       "                      min_impurity_split=None, min_samples_leaf=1,\n",
       "                      min_samples_split=2, min_weight_fraction_leaf=0.0,\n",
       "                      n_estimators=1, n_jobs=None, oob_score=False,\n",
       "                      random_state=None, verbose=0, warm_start=False)"
      ]
     },
     "execution_count": 99,
     "metadata": {},
     "output_type": "execute_result"
    }
   ],
   "source": [
    "rfr2 = RandomForestRegressor(n_estimators=1, min_samples_leaf=1)\n",
    "rfr2.fit(X_small, y)\n",
    "rfr2"
   ]
  },
  {
   "cell_type": "code",
   "execution_count": 100,
   "metadata": {},
   "outputs": [],
   "source": [
    "# Make Predictions:\n",
    "X_pred = np.arange(0.0, 140.0, 0.1)[:, np.newaxis] #reshaping again\n",
    "y_pred = rfr1.predict(X_pred)\n",
    "y_pred2= rfr2.predict(X_pred)"
   ]
  },
  {
   "cell_type": "code",
   "execution_count": 101,
   "metadata": {},
   "outputs": [
    {
     "data": {
      "image/png": "[encoded data removed]",
      "text/plain": [
       "<Figure size 864x504 with 1 Axes>"
      ]
     },
     "metadata": {
      "needs_background": "light"
     },
     "output_type": "display_data"
    },
    {
     "data": {
      "image/png": "[encoded data removed]",
      "text/plain": [
       "<Figure size 864x504 with 1 Axes>"
      ]
     },
     "metadata": {
      "needs_background": "light"
     },
     "output_type": "display_data"
    }
   ],
   "source": [
    "# Visualize the tree (No Overfitting)\n",
    "# Plot the results\n",
    "plt.figure(figsize=(12,7))\n",
    "plt.scatter(X_small, y, s=20, edgecolor=\"black\",\n",
    "            c=\"darkorange\", label=\"data\")\n",
    "plt.plot(X_pred, y_pred, color=\"cornflowerblue\",\n",
    "         label=\"min_samples_leaf=7\", linewidth=3)\n",
    "plt.xlabel(\"Child Mortality\")\n",
    "plt.ylabel(\"Corruption Perception\")\n",
    "plt.title(\"Decision Tree Regression\")\n",
    "plt.legend()\n",
    "plt.show()\n",
    "\n",
    "# Visualize the tree\n",
    "# Plot the results\n",
    "plt.figure(figsize=(12,7))\n",
    "plt.scatter(X_small, y, s=20, edgecolor=\"black\",\n",
    "            c=\"darkorange\", label=\"data\")\n",
    "plt.plot(X_pred, y_pred2, color=\"yellowgreen\", label=\"min_samples_leaf=1\")\n",
    "plt.xlabel(\"Child Mortality\")\n",
    "plt.ylabel(\"Corruption Perception\")\n",
    "plt.title(\"Decision Tree Regression\")\n",
    "plt.legend()\n",
    "plt.show()\n"
   ]
  },
  {
   "cell_type": "markdown",
   "metadata": {},
   "source": [
    "### Demonstrate RandomForest output\n",
    "\n",
    "Now we will compare the simpler decision tree to a random forest (or an ensemble of decision trees)."
   ]
  },
  {
   "cell_type": "code",
   "execution_count": 102,
   "metadata": {},
   "outputs": [
    {
     "data": {
      "image/png": "[encoded data removed]",
      "text/plain": [
       "<Figure size 864x504 with 1 Axes>"
      ]
     },
     "metadata": {
      "needs_background": "light"
     },
     "output_type": "display_data"
    }
   ],
   "source": [
    "#Now Build a random forest with 1000 trees and a min_samples_leaf=7\n",
    "rfr3 = RandomForestRegressor(n_estimators=1000, min_samples_leaf=7,random_state=346234) #random state another way to not set seed\n",
    "rfr3.fit(X_small, y)\n",
    "y_pred3 = rfr3.predict(X_pred)\n",
    "\n",
    "# Plot\n",
    "plt.figure(figsize=(12,7))\n",
    "plt.scatter(X_small, y, s=20, edgecolor=\"black\",\n",
    "            c=\"darkorange\", label=\"data\")\n",
    "plt.plot(X_pred, y_pred3, color=\"yellowgreen\", label=\"min_samples_leaf=1\",linewidth=3)\n",
    "plt.xlabel(\"Child Mortality\")\n",
    "plt.ylabel(\"Corruption Perception\")\n",
    "plt.title(\"Decision Tree Regression\")\n",
    "plt.legend()\n",
    "plt.show()\n"
   ]
  },
  {
   "cell_type": "markdown",
   "metadata": {},
   "source": [
    "## Check Accuracy on Training and Testing Data\n",
    "\n",
    "Remember that the decision tree rfr1 is less overfit than rfr2.  What do you expect this means for training accuracy and testing accuracy respectively?"
   ]
  },
  {
   "cell_type": "code",
   "execution_count": 110,
   "metadata": {},
   "outputs": [
    {
     "name": "stdout",
     "output_type": "stream",
     "text": [
      "(121, 1)\n",
      "(41, 1)\n"
     ]
    },
    {
     "data": {
      "text/plain": [
       "RandomForestRegressor(bootstrap=True, ccp_alpha=0.0, criterion='mse',\n",
       "                      max_depth=None, max_features='auto', max_leaf_nodes=None,\n",
       "                      max_samples=None, min_impurity_decrease=0.0,\n",
       "                      min_impurity_split=None, min_samples_leaf=1,\n",
       "                      min_samples_split=2, min_weight_fraction_leaf=0.0,\n",
       "                      n_estimators=1, n_jobs=None, oob_score=False,\n",
       "                      random_state=None, verbose=0, warm_start=False)"
      ]
     },
     "execution_count": 110,
     "metadata": {},
     "output_type": "execute_result"
    }
   ],
   "source": [
    "# Split up into training and testing data\n",
    "X_train, X_test, y_train, y_test = train_test_split(\n",
    "    X_small,y, test_size=0.25) #testing on 25% of the data\n",
    "\n",
    "print(X_train.shape)\n",
    "print(X_test.shape)\n",
    "\n",
    "# Retrain on ONLY training dataset\n",
    "rfr1.fit(X_train, y_train)\n",
    "rfr2.fit(X_train, y_train)"
   ]
  },
  {
   "cell_type": "code",
   "execution_count": 111,
   "metadata": {},
   "outputs": [
    {
     "name": "stdout",
     "output_type": "stream",
     "text": [
      "Training error of model 1:  136.3526330209297\n",
      "Training error of model 2:  101.75918273645547\n"
     ]
    }
   ],
   "source": [
    "#Evaluate on training set to get MSE\n",
    "y_model1 = rfr1.predict(X_train)\n",
    "y_model2 = rfr2.predict(X_train)\n",
    "\n",
    "mse_train1 = (y_model1 - y_train)**2\n",
    "mse_train2 = (y_model2 - y_train)**2\n",
    "\n",
    "mse_train1 = mse_train1.sum()/len(y_train)\n",
    "mse_train2 = mse_train2.sum()/len(y_train)\n",
    "\n",
    "print(\"Training error of model 1: \",mse_train1)\n",
    "print(\"Training error of model 2: \", mse_train2)"
   ]
  },
  {
   "cell_type": "markdown",
   "metadata": {},
   "source": [
    "#### The training error of the more overfit model is less than the less overfit model! Did you expect this result?  "
   ]
  },
  {
   "cell_type": "code",
   "execution_count": 112,
   "metadata": {},
   "outputs": [
    {
     "name": "stdout",
     "output_type": "stream",
     "text": [
      "Testing error of model 1:  238.22200748072882\n",
      "Testing error of model 2:  374.0819783197832\n"
     ]
    }
   ],
   "source": [
    "y_model1 = rfr1.predict(X_test)\n",
    "y_model2 = rfr2.predict(X_test)\n",
    "\n",
    "mse_test1 = (y_model1 - y_test)**2\n",
    "mse_test2 = (y_model2 - y_test)**2\n",
    "\n",
    "mse_test1 = mse_test1.sum()/len(y_test)\n",
    "mse_test2 = mse_test2.sum()/len(y_test)\n",
    "\n",
    "print(\"Testing error of model 1: \",mse_test1)\n",
    "print(\"Testing error of model 2: \", mse_test2)"
   ]
  },
  {
   "cell_type": "markdown",
   "metadata": {},
   "source": [
    "#### The less overfit model has a lower testing error.  This shows why it's so important to test on held out data. How does the error for our random forest `rfr3` compare to the above?\n",
    "\n",
    "*Note you can use the `KFold` function in `sklearn.model_selection` to do accuracy testing in a more automated way. Likewise remember that CV uses the whole dataset as both testing and trainig datas rotating through all possible splits.*"
   ]
  },
  {
   "cell_type": "code",
   "execution_count": 114,
   "metadata": {},
   "outputs": [
    {
     "name": "stdout",
     "output_type": "stream",
     "text": [
      "Testing error of model 3:  204.17890081443196\n"
     ]
    }
   ],
   "source": [
    "rfr3.fit(X_train, y_train)\n",
    "\n",
    "y_model3 = rfr3.predict(X_test)\n",
    "mse_test3 = (y_model3 - y_test)**2\n",
    "mse_test3 = mse_test3.sum()/len(y_test)\n",
    "\n",
    "print(\"Testing error of model 3: \",mse_test3)"
   ]
  },
  {
   "cell_type": "markdown",
   "metadata": {},
   "source": [
    "## Exercise:\n",
    "Using what you've learned today, create your own model to predict corruption from the covariates. Pick variables you think are relevant (and that might cause corruption perception to be higher or lower). Do testing on your model to pick the best hyperparameters.\n",
    "\n",
    "**Bonus Q:** Make up some realitistic values for the variables for a fake country. See what the model predicts for this country.  Does your model predict that corruption will be high or low in this fake country?"
   ]
  }
 ],
 "metadata": {
  "kernelspec": {
   "display_name": "Python 3",
   "language": "python",
   "name": "python3"
  },
  "language_info": {
   "codemirror_mode": {
    "name": "ipython",
    "version": 3
   },
   "file_extension": ".py",
   "mimetype": "text/x-python",
   "name": "python",
   "nbconvert_exporter": "python",
   "pygments_lexer": "ipython3",
   "version": "3.7.6"
  }
 },
 "nbformat": 4,
 "nbformat_minor": 4
}
